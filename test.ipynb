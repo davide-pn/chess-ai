{
 "cells": [
  {
   "cell_type": "code",
   "execution_count": 1,
   "metadata": {},
   "outputs": [],
   "source": [
    "from chess import *\n",
    "import ai\n",
    "import importlib"
   ]
  },
  {
   "cell_type": "markdown",
   "metadata": {},
   "source": [
    "ai.minimax(chess.Board(), 1, 0)"
   ]
  },
  {
   "cell_type": "code",
   "execution_count": 68,
   "metadata": {},
   "outputs": [],
   "source": [
    "# construct a better test case\n",
    "board = chess.Board()\n",
    "\n",
    "for i in range(50):\n",
    "    board, move = ai.minimax_with_pruning(board1, )"
   ]
  },
  {
   "cell_type": "code",
   "execution_count": 69,
   "metadata": {},
   "outputs": [
    {
     "name": "stdout",
     "output_type": "stream",
     "text": [
      "0 white Knight at b1 c3\n"
     ]
    }
   ],
   "source": [
    "board1 = chess.Board()\n",
    "score, move = ai.minimax_with_pruning(board1, 3, -1000, +1000, 0)\n",
    "print(score, move)\n",
    "\n",
    "#for b in board1.get_moves():\n",
    "#    print(b[0], b[1].compute_score(0))\n",
    "#    print(b[1])\n",
    "\n"
   ]
  },
  {
   "cell_type": "code",
   "execution_count": 70,
   "metadata": {},
   "outputs": [
    {
     "name": "stdout",
     "output_type": "stream",
     "text": [
      "    a   b   c   d   e   f   g   h\n",
      "   --- --- --- --- --- --- --- ---\n",
      "8 | R | N | B | Q | K | B | N | R |\n",
      "   --- --- --- --- --- --- --- ---\n",
      "7 | P | P |   | P | P | P | P | P |\n",
      "   --- --- --- --- --- --- --- ---\n",
      "6 |   |   |   |   |   |   |   |   |\n",
      "   --- --- --- --- --- --- --- ---\n",
      "5 |   |   |   |   |   |   |   |   |\n",
      "   --- --- --- --- --- --- --- ---\n",
      "4 |   |   |   |   |   |   |   |   |\n",
      "   --- --- --- --- --- --- --- ---\n",
      "3 |   |   | n |   |   |   |   |   |\n",
      "   --- --- --- --- --- --- --- ---\n",
      "2 | p | p | p | p | p | p | p | p |\n",
      "   --- --- --- --- --- --- --- ---\n",
      "1 | r |   | b | q | k | b | n | r |\n",
      "   --- --- --- --- --- --- --- ---\n",
      "    a   b   c   d   e   f   g   h\n"
     ]
    },
    {
     "data": {
      "text/plain": [
       "1"
      ]
     },
     "execution_count": 70,
     "metadata": {},
     "output_type": "execute_result"
    }
   ],
   "source": [
    "board = chess.Board()\n",
    "board.move_piece(board.get_piece(chess.locate(\"c7\")), chess.locate(\"c3\"))\n",
    "board.move_piece(board.get_piece(chess.locate(\"b1\")), chess.locate(\"c3\"))\n",
    "print(board)\n",
    "board.compute_score(0)"
   ]
  },
  {
   "cell_type": "code",
   "execution_count": 3,
   "metadata": {},
   "outputs": [
    {
     "name": "stdout",
     "output_type": "stream",
     "text": [
      "    a   b   c   d   e   f   g   h\n",
      "   --- --- --- --- --- --- --- ---\n",
      "8 | R | N | B | Q | K | B | N | R |\n",
      "   --- --- --- --- --- --- --- ---\n",
      "7 | P | P | P | P | P | P | P | P |\n",
      "   --- --- --- --- --- --- --- ---\n",
      "6 |   |   |   |   |   |   |   |   |\n",
      "   --- --- --- --- --- --- --- ---\n",
      "5 |   |   |   |   |   |   |   |   |\n",
      "   --- --- --- --- --- --- --- ---\n",
      "4 |   |   |   |   |   |   |   |   |\n",
      "   --- --- --- --- --- --- --- ---\n",
      "3 |   |   |   |   |   |   |   |   |\n",
      "   --- --- --- --- --- --- --- ---\n",
      "2 | p | p | p | p | p | p | p | p |\n",
      "   --- --- --- --- --- --- --- ---\n",
      "1 | r | n | b | q | k | b | n | r |\n",
      "   --- --- --- --- --- --- --- ---\n",
      "    a   b   c   d   e   f   g   h\n",
      "white Knight at b1 c3\n",
      "    a   b   c   d   e   f   g   h\n",
      "   --- --- --- --- --- --- --- ---\n",
      "8 | R | N | B | Q | K | B | N | R |\n",
      "   --- --- --- --- --- --- --- ---\n",
      "7 | P | P | P | P | P | P | P | P |\n",
      "   --- --- --- --- --- --- --- ---\n",
      "6 |   |   |   |   |   |   |   |   |\n",
      "   --- --- --- --- --- --- --- ---\n",
      "5 |   |   |   |   |   |   |   |   |\n",
      "   --- --- --- --- --- --- --- ---\n",
      "4 |   |   |   |   |   |   |   |   |\n",
      "   --- --- --- --- --- --- --- ---\n",
      "3 |   |   | n |   |   |   |   |   |\n",
      "   --- --- --- --- --- --- --- ---\n",
      "2 | p | p | p | p | p | p | p | p |\n",
      "   --- --- --- --- --- --- --- ---\n",
      "1 | r |   | b | q | k | b | n | r |\n",
      "   --- --- --- --- --- --- --- ---\n",
      "    a   b   c   d   e   f   g   h\n",
      "black Pawn at a7 a6\n",
      "    a   b   c   d   e   f   g   h\n",
      "   --- --- --- --- --- --- --- ---\n",
      "8 | R | N | B | Q | K | B | N | R |\n",
      "   --- --- --- --- --- --- --- ---\n",
      "7 |   | P | P | P | P | P | P | P |\n",
      "   --- --- --- --- --- --- --- ---\n",
      "6 | P |   |   |   |   |   |   |   |\n",
      "   --- --- --- --- --- --- --- ---\n",
      "5 |   |   |   |   |   |   |   |   |\n",
      "   --- --- --- --- --- --- --- ---\n",
      "4 |   |   |   |   |   |   |   |   |\n",
      "   --- --- --- --- --- --- --- ---\n",
      "3 |   |   | n |   |   |   |   |   |\n",
      "   --- --- --- --- --- --- --- ---\n",
      "2 | p | p | p | p | p | p | p | p |\n",
      "   --- --- --- --- --- --- --- ---\n",
      "1 | r |   | b | q | k | b | n | r |\n",
      "   --- --- --- --- --- --- --- ---\n",
      "    a   b   c   d   e   f   g   h\n",
      "white Knight at c3 d5\n",
      "    a   b   c   d   e   f   g   h\n",
      "   --- --- --- --- --- --- --- ---\n",
      "8 | R | N | B | Q | K | B | N | R |\n",
      "   --- --- --- --- --- --- --- ---\n",
      "7 |   | P | P | P | P | P | P | P |\n",
      "   --- --- --- --- --- --- --- ---\n",
      "6 | P |   |   |   |   |   |   |   |\n",
      "   --- --- --- --- --- --- --- ---\n",
      "5 |   |   |   | n |   |   |   |   |\n",
      "   --- --- --- --- --- --- --- ---\n",
      "4 |   |   |   |   |   |   |   |   |\n",
      "   --- --- --- --- --- --- --- ---\n",
      "3 |   |   |   |   |   |   |   |   |\n",
      "   --- --- --- --- --- --- --- ---\n",
      "2 | p | p | p | p | p | p | p | p |\n",
      "   --- --- --- --- --- --- --- ---\n",
      "1 | r |   | b | q | k | b | n | r |\n",
      "   --- --- --- --- --- --- --- ---\n",
      "    a   b   c   d   e   f   g   h\n",
      "black Pawn at a6 a5\n",
      "    a   b   c   d   e   f   g   h\n",
      "   --- --- --- --- --- --- --- ---\n",
      "8 | R | N | B | Q | K | B | N | R |\n",
      "   --- --- --- --- --- --- --- ---\n",
      "7 |   | P | P | P | P | P | P | P |\n",
      "   --- --- --- --- --- --- --- ---\n",
      "6 |   |   |   |   |   |   |   |   |\n",
      "   --- --- --- --- --- --- --- ---\n",
      "5 | P |   |   | n |   |   |   |   |\n",
      "   --- --- --- --- --- --- --- ---\n",
      "4 |   |   |   |   |   |   |   |   |\n",
      "   --- --- --- --- --- --- --- ---\n",
      "3 |   |   |   |   |   |   |   |   |\n",
      "   --- --- --- --- --- --- --- ---\n",
      "2 | p | p | p | p | p | p | p | p |\n",
      "   --- --- --- --- --- --- --- ---\n",
      "1 | r |   | b | q | k | b | n | r |\n",
      "   --- --- --- --- --- --- --- ---\n",
      "    a   b   c   d   e   f   g   h\n",
      "white Rook at a1 b1\n",
      "    a   b   c   d   e   f   g   h\n",
      "   --- --- --- --- --- --- --- ---\n",
      "8 | R | N | B | Q | K | B | N | R |\n",
      "   --- --- --- --- --- --- --- ---\n",
      "7 |   | P | P | P | P | P | P | P |\n",
      "   --- --- --- --- --- --- --- ---\n",
      "6 |   |   |   |   |   |   |   |   |\n",
      "   --- --- --- --- --- --- --- ---\n",
      "5 | P |   |   | n |   |   |   |   |\n",
      "   --- --- --- --- --- --- --- ---\n",
      "4 |   |   |   |   |   |   |   |   |\n",
      "   --- --- --- --- --- --- --- ---\n",
      "3 |   |   |   |   |   |   |   |   |\n",
      "   --- --- --- --- --- --- --- ---\n",
      "2 | p | p | p | p | p | p | p | p |\n",
      "   --- --- --- --- --- --- --- ---\n",
      "1 |   | r | b | q | k | b | n | r |\n",
      "   --- --- --- --- --- --- --- ---\n",
      "    a   b   c   d   e   f   g   h\n",
      "black Pawn at a5 a4\n",
      "    a   b   c   d   e   f   g   h\n",
      "   --- --- --- --- --- --- --- ---\n",
      "8 | R | N | B | Q | K | B | N | R |\n",
      "   --- --- --- --- --- --- --- ---\n",
      "7 |   | P | P | P | P | P | P | P |\n",
      "   --- --- --- --- --- --- --- ---\n",
      "6 |   |   |   |   |   |   |   |   |\n",
      "   --- --- --- --- --- --- --- ---\n",
      "5 |   |   |   | n |   |   |   |   |\n",
      "   --- --- --- --- --- --- --- ---\n",
      "4 | P |   |   |   |   |   |   |   |\n",
      "   --- --- --- --- --- --- --- ---\n",
      "3 |   |   |   |   |   |   |   |   |\n",
      "   --- --- --- --- --- --- --- ---\n",
      "2 | p | p | p | p | p | p | p | p |\n",
      "   --- --- --- --- --- --- --- ---\n",
      "1 |   | r | b | q | k | b | n | r |\n",
      "   --- --- --- --- --- --- --- ---\n",
      "    a   b   c   d   e   f   g   h\n",
      "white Rook at b1 a1\n",
      "    a   b   c   d   e   f   g   h\n",
      "   --- --- --- --- --- --- --- ---\n",
      "8 | R | N | B | Q | K | B | N | R |\n",
      "   --- --- --- --- --- --- --- ---\n",
      "7 |   | P | P | P | P | P | P | P |\n",
      "   --- --- --- --- --- --- --- ---\n",
      "6 |   |   |   |   |   |   |   |   |\n",
      "   --- --- --- --- --- --- --- ---\n",
      "5 |   |   |   | n |   |   |   |   |\n",
      "   --- --- --- --- --- --- --- ---\n",
      "4 | P |   |   |   |   |   |   |   |\n",
      "   --- --- --- --- --- --- --- ---\n",
      "3 |   |   |   |   |   |   |   |   |\n",
      "   --- --- --- --- --- --- --- ---\n",
      "2 | p | p | p | p | p | p | p | p |\n",
      "   --- --- --- --- --- --- --- ---\n",
      "1 | r |   | b | q | k | b | n | r |\n",
      "   --- --- --- --- --- --- --- ---\n",
      "    a   b   c   d   e   f   g   h\n",
      "black Pawn at a4 a3\n",
      "    a   b   c   d   e   f   g   h\n",
      "   --- --- --- --- --- --- --- ---\n",
      "8 | R | N | B | Q | K | B | N | R |\n",
      "   --- --- --- --- --- --- --- ---\n",
      "7 |   | P | P | P | P | P | P | P |\n",
      "   --- --- --- --- --- --- --- ---\n",
      "6 |   |   |   |   |   |   |   |   |\n",
      "   --- --- --- --- --- --- --- ---\n",
      "5 |   |   |   | n |   |   |   |   |\n",
      "   --- --- --- --- --- --- --- ---\n",
      "4 |   |   |   |   |   |   |   |   |\n",
      "   --- --- --- --- --- --- --- ---\n",
      "3 | P |   |   |   |   |   |   |   |\n",
      "   --- --- --- --- --- --- --- ---\n",
      "2 | p | p | p | p | p | p | p | p |\n",
      "   --- --- --- --- --- --- --- ---\n",
      "1 | r |   | b | q | k | b | n | r |\n",
      "   --- --- --- --- --- --- --- ---\n",
      "    a   b   c   d   e   f   g   h\n",
      "white Pawn at b2 a3\n",
      "    a   b   c   d   e   f   g   h\n",
      "   --- --- --- --- --- --- --- ---\n",
      "8 | R | N | B | Q | K | B | N | R |\n",
      "   --- --- --- --- --- --- --- ---\n",
      "7 |   | P | P | P | P | P | P | P |\n",
      "   --- --- --- --- --- --- --- ---\n",
      "6 |   |   |   |   |   |   |   |   |\n",
      "   --- --- --- --- --- --- --- ---\n",
      "5 |   |   |   | n |   |   |   |   |\n",
      "   --- --- --- --- --- --- --- ---\n",
      "4 |   |   |   |   |   |   |   |   |\n",
      "   --- --- --- --- --- --- --- ---\n",
      "3 | p |   |   |   |   |   |   |   |\n",
      "   --- --- --- --- --- --- --- ---\n",
      "2 | p |   | p | p | p | p | p | p |\n",
      "   --- --- --- --- --- --- --- ---\n",
      "1 | r |   | b | q | k | b | n | r |\n",
      "   --- --- --- --- --- --- --- ---\n",
      "    a   b   c   d   e   f   g   h\n",
      "black Pawn at b7 b6\n",
      "    a   b   c   d   e   f   g   h\n",
      "   --- --- --- --- --- --- --- ---\n",
      "8 | R | N | B | Q | K | B | N | R |\n",
      "   --- --- --- --- --- --- --- ---\n",
      "7 |   |   | P | P | P | P | P | P |\n",
      "   --- --- --- --- --- --- --- ---\n",
      "6 |   | P |   |   |   |   |   |   |\n",
      "   --- --- --- --- --- --- --- ---\n",
      "5 |   |   |   | n |   |   |   |   |\n",
      "   --- --- --- --- --- --- --- ---\n",
      "4 |   |   |   |   |   |   |   |   |\n",
      "   --- --- --- --- --- --- --- ---\n",
      "3 | p |   |   |   |   |   |   |   |\n",
      "   --- --- --- --- --- --- --- ---\n",
      "2 | p |   | p | p | p | p | p | p |\n",
      "   --- --- --- --- --- --- --- ---\n",
      "1 | r |   | b | q | k | b | n | r |\n",
      "   --- --- --- --- --- --- --- ---\n",
      "    a   b   c   d   e   f   g   h\n"
     ]
    }
   ],
   "source": [
    "board2 = Board()\n",
    "print(board2)\n",
    "# Lets play a game with itself!\n",
    "depth = 3\n",
    "turn = 0\n",
    "for i in range(10):\n",
    "    _, move = ai.minimax_with_pruning(board2, depth, -1000, 1000, turn)\n",
    "    board2.move_piece(move.piece, move.position)\n",
    "    print(move)\n",
    "    print(board2)\n",
    "    turn = 1 - turn"
   ]
  },
  {
   "cell_type": "code",
   "execution_count": 3,
   "metadata": {},
   "outputs": [
    {
     "name": "stdout",
     "output_type": "stream",
     "text": [
      "    a   b   c   d   e   f   g   h\n",
      "   --- --- --- --- --- --- --- ---\n",
      "8 | R | N |   |   |   | R |   | K |\n",
      "   --- --- --- --- --- --- --- ---\n",
      "7 |   |   |   |   | n | P | P | P |\n",
      "   --- --- --- --- --- --- --- ---\n",
      "6 | B | P |   | n |   |   |   |   |\n",
      "   --- --- --- --- --- --- --- ---\n",
      "5 |   | P |   |   | p | p |   |   |\n",
      "   --- --- --- --- --- --- --- ---\n",
      "4 |   |   | P |   |   |   | p |   |\n",
      "   --- --- --- --- --- --- --- ---\n",
      "3 | p |   |   |   | N |   |   | p |\n",
      "   --- --- --- --- --- --- --- ---\n",
      "2 |   | p | p |   |   |   |   |   |\n",
      "   --- --- --- --- --- --- --- ---\n",
      "1 |   |   |   | r |   | r | k |   |\n",
      "   --- --- --- --- --- --- --- ---\n",
      "    a   b   c   d   e   f   g   h\n",
      "(1, wNd6 to f7, bRf8 to f7, wRd1 to d8, bRf7 to f8, wRd8 to f8, None)\n"
     ]
    }
   ],
   "source": [
    "# Puzzle 68960 from lichess.org\n",
    "board3 = Board(empty=True)\n",
    "board3.add_piece(locate_piece(ROOK, WHITE, locate(\"d1\")))\n",
    "board3.add_piece(locate_piece(ROOK, WHITE, locate(\"f1\")))\n",
    "board3.add_piece(locate_piece(KING, WHITE, locate(\"g1\")))\n",
    "board3.add_piece(locate_piece(PAWN, WHITE, locate(\"b2\")))\n",
    "board3.add_piece(locate_piece(PAWN, WHITE, locate(\"c2\")))\n",
    "board3.add_piece(locate_piece(PAWN, WHITE, locate(\"a3\")))\n",
    "board3.add_piece(locate_piece(KNIGHT, BLACK, locate(\"e3\")))\n",
    "board3.add_piece(locate_piece(PAWN, WHITE, locate(\"h3\")))\n",
    "board3.add_piece(locate_piece(PAWN, BLACK, locate(\"c4\")))\n",
    "board3.add_piece(locate_piece(PAWN, WHITE, locate(\"g4\")))\n",
    "board3.add_piece(locate_piece(PAWN, BLACK, locate(\"b5\")))\n",
    "board3.add_piece(locate_piece(PAWN, WHITE, locate(\"e5\")))\n",
    "board3.add_piece(locate_piece(PAWN, WHITE, locate(\"f5\")))\n",
    "board3.add_piece(locate_piece(BISHOP, BLACK, locate(\"a6\")))\n",
    "board3.add_piece(locate_piece(PAWN, BLACK, locate(\"b6\")))\n",
    "board3.add_piece(locate_piece(KNIGHT, WHITE, locate(\"d6\")))\n",
    "board3.add_piece(locate_piece(KNIGHT, WHITE, locate(\"e7\")))\n",
    "board3.add_piece(locate_piece(PAWN, BLACK, locate(\"f7\")))\n",
    "board3.add_piece(locate_piece(PAWN, BLACK, locate(\"g7\")))\n",
    "board3.add_piece(locate_piece(PAWN, BLACK, locate(\"h7\")))\n",
    "board3.add_piece(locate_piece(ROOK, BLACK, locate(\"a8\")))\n",
    "board3.add_piece(locate_piece(KNIGHT, BLACK, locate(\"b8\")))\n",
    "board3.add_piece(locate_piece(ROOK, BLACK, locate(\"f8\")))\n",
    "board3.add_piece(locate_piece(KING, BLACK, locate(\"h8\")))\n",
    "print(board3)\n",
    "\n",
    "print(ai.minimax_with_pruning(board3, 5, -10000, 10000, WHITE))\n"
   ]
  },
  {
   "cell_type": "code",
   "execution_count": 5,
   "metadata": {},
   "outputs": [
    {
     "data": {
      "text/plain": [
       "black Rook at d2"
      ]
     },
     "execution_count": 5,
     "metadata": {},
     "output_type": "execute_result"
    }
   ],
   "source": [
    "board3.move_piece(locate_piece(ROOK, BLACK, locate(\"d1\")), locate(\"d2\"))"
   ]
  },
  {
   "cell_type": "code",
   "execution_count": 7,
   "metadata": {},
   "outputs": [
    {
     "name": "stdout",
     "output_type": "stream",
     "text": [
      "    a   b   c   d   e   f   g   h\n",
      "   --- --- --- --- --- --- --- ---\n",
      "8 | R | N |   |   |   | R |   | K |\n",
      "   --- --- --- --- --- --- --- ---\n",
      "7 |   |   |   |   | n | P | P | P |\n",
      "   --- --- --- --- --- --- --- ---\n",
      "6 | B | P |   | n |   |   |   |   |\n",
      "   --- --- --- --- --- --- --- ---\n",
      "5 |   | P |   |   | p | p |   |   |\n",
      "   --- --- --- --- --- --- --- ---\n",
      "4 |   |   | P |   |   |   | p |   |\n",
      "   --- --- --- --- --- --- --- ---\n",
      "3 | p |   |   |   | N |   |   | p |\n",
      "   --- --- --- --- --- --- --- ---\n",
      "2 |   | p | p | R |   |   |   |   |\n",
      "   --- --- --- --- --- --- --- ---\n",
      "1 |   |   |   |   |   | r | k |   |\n",
      "   --- --- --- --- --- --- --- ---\n",
      "    a   b   c   d   e   f   g   h\n"
     ]
    }
   ],
   "source": [
    "print(board3)"
   ]
  },
  {
   "cell_type": "code",
   "execution_count": 8,
   "metadata": {},
   "outputs": [
    {
     "data": {
      "text/plain": [
       "(-10000, None)"
      ]
     },
     "execution_count": 8,
     "metadata": {},
     "output_type": "execute_result"
    }
   ],
   "source": [
    "ai.minimax(board3, 3, BLACK)"
   ]
  },
  {
   "cell_type": "code",
   "execution_count": null,
   "metadata": {},
   "outputs": [],
   "source": []
  }
 ],
 "metadata": {
  "kernelspec": {
   "display_name": "Python 3",
   "language": "python",
   "name": "python3"
  },
  "language_info": {
   "codemirror_mode": {
    "name": "ipython",
    "version": 3
   },
   "file_extension": ".py",
   "mimetype": "text/x-python",
   "name": "python",
   "nbconvert_exporter": "python",
   "pygments_lexer": "ipython3",
   "version": "3.6.5"
  }
 },
 "nbformat": 4,
 "nbformat_minor": 2
}
